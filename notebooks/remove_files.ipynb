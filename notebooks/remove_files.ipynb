{
 "cells": [
  {
   "cell_type": "markdown",
   "id": "503d65ae-4530-4227-8291-a27fbe0413e6",
   "metadata": {},
   "source": [
    "# Remove files from disk (permanently)\n",
    "\n",
    "**Date:** 2022-04-17\n",
    "\n",
    "**Author:** Nejc Čož\n",
    "\n",
    "**Description:**\n",
    "Routine for permanently removing files from a selected folder.\n"
   ]
  },
  {
   "cell_type": "code",
   "execution_count": null,
   "id": "845fe57e",
   "metadata": {},
   "outputs": [],
   "source": [
    "from pathlib import Path\n",
    "import shutil"
   ]
  },
  {
   "cell_type": "code",
   "execution_count": null,
   "id": "9db2f16e",
   "metadata": {},
   "outputs": [],
   "source": [
    "source_dir = Path(r\"n:\\TII_lidar\\CFRAM_DATA\")\n",
    "\n",
    "dest_dir = Path(r\"z:\\TII_ADAF\\OPW_data\\CFRAM\")"
   ]
  },
  {
   "cell_type": "code",
   "execution_count": null,
   "id": "2c1013c2",
   "metadata": {},
   "outputs": [],
   "source": [
    "one = list(dest_dir.iterdir())[0]\n",
    "source_file = list(source_dir.rglob(one.name + \"*.gpkg\"))[0]\n",
    "source_file"
   ]
  },
  {
   "cell_type": "code",
   "execution_count": null,
   "id": "0b358582",
   "metadata": {},
   "outputs": [],
   "source": [
    "one / source_file.name"
   ]
  },
  {
   "cell_type": "code",
   "execution_count": null,
   "id": "731f28b9",
   "metadata": {},
   "outputs": [],
   "source": [
    "for one in list(dest_dir.iterdir()):\n",
    "    try:\n",
    "        source_file = list(source_dir.rglob(one.name + \"*.gpkg\"))[0]\n",
    "        dest_file = one / source_file.name\n",
    "        shutil.copy(source_file, dest_file)\n",
    "        print(source_file)\n",
    "        print(\" --> \", dest_file)\n",
    "    except:\n",
    "        print(\"       >>> MISSING\", one)"
   ]
  },
  {
   "cell_type": "code",
   "execution_count": null,
   "id": "08ba0c07",
   "metadata": {},
   "outputs": [],
   "source": [
    "list_ds = list(Path(\"z:\\\\TII_ADAF\\\\OPW_data\\\\CFRAM\").iterdir())\n",
    "\n",
    "\n",
    "for ds in list_ds:\n",
    "    # Clean up wrong files from 1st run\n",
    "    wrong_files = list(ds.glob(\"*MSTP*\")) + list(ds.glob(\"*VAT_3bands*\")) + list(ds.glob(\"*slrm*\"))\n",
    "    if wrong_files:\n",
    "        print(\"  - Removing wrong files in\", ds.as_posix())\n",
    "        for to_del in wrong_files:\n",
    "            try:\n",
    "                if to_del.is_dir():\n",
    "                    shutil.rmtree(to_del)\n",
    "                else:\n",
    "                    to_del.unlink()\n",
    "            except OSError as e:\n",
    "                print(f\"Error: {to_del} : {e.strerror}\")"
   ]
  }
 ],
 "metadata": {
  "kernelspec": {
   "display_name": "Python 3 (ipykernel)",
   "language": "python",
   "name": "python3"
  },
  "language_info": {
   "codemirror_mode": {
    "name": "ipython",
    "version": 3
   },
   "file_extension": ".py",
   "mimetype": "text/x-python",
   "name": "python",
   "nbconvert_exporter": "python",
   "pygments_lexer": "ipython3",
   "version": "3.8.19"
  }
 },
 "nbformat": 4,
 "nbformat_minor": 5
}
