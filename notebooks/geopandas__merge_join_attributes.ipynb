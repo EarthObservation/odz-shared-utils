{
 "cells": [
  {
   "cell_type": "markdown",
   "id": "2134d8d9-2db5-476f-9aa0-4ba1f1e5dc09",
   "metadata": {},
   "source": [
    "# Join attribute of GDF\n",
    "\n",
    "**Date:** 2022-04-17\n",
    "\n",
    "**Author:** Nejc Čož\n",
    "\n",
    "**Description:**\n",
    "Add atributtes from CSV file to your vector file using `geopandas`\n"
   ]
  },
  {
   "cell_type": "code",
   "execution_count": null,
   "id": "bdc0b22f-8784-42d6-bfcb-a9bcccce9c5c",
   "metadata": {},
   "outputs": [],
   "source": [
    "import geopandas as gpd\n",
    "import pandas as pd"
   ]
  },
  {
   "cell_type": "code",
   "execution_count": null,
   "id": "7e377e30-aa85-4cbf-81ac-79a62ebef345",
   "metadata": {},
   "outputs": [],
   "source": [
    "gdf = gpd.read_file(r\"z:\\TII_ADAF\\tmp_gpkg\\ds_extents-nm_separate.gpkg\", layer=\"OPW_data\")\n",
    "gdf"
   ]
  },
  {
   "cell_type": "code",
   "execution_count": null,
   "id": "2cf5284e-184a-421a-8eec-c4f688a74177",
   "metadata": {},
   "outputs": [],
   "source": [
    "df = pd.read_csv(r\"z:\\TII_ADAF\\tmp_gpkg\\ds_links_OPW.xlsx\")\n",
    "df"
   ]
  },
  {
   "cell_type": "code",
   "execution_count": null,
   "id": "a5d9d140-f41f-4a01-8fe8-b1de99eafddf",
   "metadata": {},
   "outputs": [],
   "source": [
    "gdf.merge(df, on=\"ds\").drop(columns=[\"MERGE_SRC\"]).to_file(r\"z:\\TII_ADAF\\tmp_gpkg\\ds_extents-nm_separate.gpkg\", layer=\"OPW_data\", driver=\"GPKG\")"
   ]
  }
 ],
 "metadata": {
  "kernelspec": {
   "display_name": "Python 3 (ipykernel)",
   "language": "python",
   "name": "python3"
  },
  "language_info": {
   "codemirror_mode": {
    "name": "ipython",
    "version": 3
   },
   "file_extension": ".py",
   "mimetype": "text/x-python",
   "name": "python",
   "nbconvert_exporter": "python",
   "pygments_lexer": "ipython3",
   "version": "3.8.19"
  }
 },
 "nbformat": 4,
 "nbformat_minor": 5
}
